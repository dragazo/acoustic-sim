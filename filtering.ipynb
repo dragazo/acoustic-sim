{
 "cells": [
  {
   "cell_type": "code",
   "execution_count": 38,
   "id": "81a376dd-a93c-4777-8377-ded36cf2aba7",
   "metadata": {},
   "outputs": [],
   "source": [
    "import scipy.io.wavfile as wav\n",
    "import numpy as np\n",
    "import shutil\n",
    "import os"
   ]
  },
  {
   "cell_type": "code",
   "execution_count": 35,
   "id": "599a352b-9d40-471e-b44e-83ea1dfcb162",
   "metadata": {},
   "outputs": [],
   "source": [
    "input_file = 'test-input.wav'\n",
    "output_dir = 'filter-output'\n",
    "seg_secs = 1\n",
    "fold_ratio = 0.1"
   ]
  },
  {
   "cell_type": "code",
   "execution_count": 29,
   "id": "e7f5af17-cbec-4b6d-9530-efd6f0c46209",
   "metadata": {},
   "outputs": [],
   "source": [
    "sample_rate, samples = wav.read(input_file)\n",
    "seg_samples = round(seg_secs * sample_rate)\n",
    "segs = [samples[seg_samples*i:seg_samples*(i+1)] for i in range(len(samples) // seg_samples)]\n",
    "assert len(segs) > 0 and all(x.shape == segs[0].shape for x in segs)"
   ]
  },
  {
   "cell_type": "code",
   "execution_count": 43,
   "id": "e075246c-0d69-49a8-879d-ca1fbb55e81c",
   "metadata": {},
   "outputs": [
    {
     "name": "stdout",
     "output_type": "stream",
     "text": [
      "before: 1215\n",
      "after:  590\n"
     ]
    }
   ],
   "source": [
    "background_freq = np.fft.fft(segs[0])\n",
    "energy_thresh = 0\n",
    "keeps = []\n",
    "for i, seg in enumerate(segs):\n",
    "    freq = np.fft.fft(seg)\n",
    "    energy = np.sum((freq - background_freq)**2)\n",
    "    if energy > energy_thresh:\n",
    "        keeps.append((i, seg))\n",
    "    background_freq = (1 - fold_ratio) * background_freq + fold_ratio * freq\n",
    "    energy_thresh = (1 - fold_ratio) * energy + fold_ratio * energy_thresh\n",
    "\n",
    "print(f'before: {len(segs)}')\n",
    "print(f'after:  {len(keeps)}')"
   ]
  },
  {
   "cell_type": "code",
   "execution_count": 44,
   "id": "ae0e70a0-103c-446b-84ce-30cfae75f43a",
   "metadata": {},
   "outputs": [],
   "source": [
    "shutil.rmtree(output_dir, ignore_errors = True)\n",
    "os.mkdir(output_dir)\n",
    "for i, keep in keeps:\n",
    "    wav.write(f'{output_dir}/keep-{i}.wav', sample_rate, keep)"
   ]
  },
  {
   "cell_type": "code",
   "execution_count": null,
   "id": "71c9b44d-e91d-45c6-a58c-27dc4b9e756a",
   "metadata": {},
   "outputs": [],
   "source": []
  }
 ],
 "metadata": {
  "kernelspec": {
   "display_name": "Python 3 (ipykernel)",
   "language": "python",
   "name": "python3"
  },
  "language_info": {
   "codemirror_mode": {
    "name": "ipython",
    "version": 3
   },
   "file_extension": ".py",
   "mimetype": "text/x-python",
   "name": "python",
   "nbconvert_exporter": "python",
   "pygments_lexer": "ipython3",
   "version": "3.8.10"
  }
 },
 "nbformat": 4,
 "nbformat_minor": 5
}
